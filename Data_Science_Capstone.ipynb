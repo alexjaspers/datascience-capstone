{
  "nbformat": 4,
  "nbformat_minor": 0,
  "metadata": {
    "colab": {
      "name": "Data-Science-Capstone.ipynb",
      "provenance": [],
      "authorship_tag": "ABX9TyM/tcM3+YVtDTBoB0Pseg8k"
    },
    "kernelspec": {
      "name": "python3",
      "display_name": "Python 3"
    }
  },
  "cells": [
    {
      "cell_type": "markdown",
      "metadata": {
        "id": "ReKLraIqNV-e",
        "colab_type": "text"
      },
      "source": [
        "# Capstone Project\n",
        "This notebook will be used for the Data Science capstone project.\n"
      ]
    },
    {
      "cell_type": "code",
      "metadata": {
        "id": "AyCLuU7jNOM3",
        "colab_type": "code",
        "colab": {
          "base_uri": "https://localhost:8080/",
          "height": 34
        },
        "outputId": "6585f167-d1a1-4d9a-fed8-f6bd06698262"
      },
      "source": [
        "import pandas as pd\n",
        "import numpy as np\n",
        "print('Hello Capstone Project Course!')"
      ],
      "execution_count": 1,
      "outputs": [
        {
          "output_type": "stream",
          "text": [
            "Hello Capstone Project Course!\n"
          ],
          "name": "stdout"
        }
      ]
    },
    {
      "cell_type": "code",
      "metadata": {
        "id": "XYEKxLoHNkpc",
        "colab_type": "code",
        "colab": {}
      },
      "source": [
        ""
      ],
      "execution_count": 0,
      "outputs": []
    }
  ]
}